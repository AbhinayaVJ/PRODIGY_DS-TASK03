{
  "metadata": {
    "kernelspec": {
      "name": "python",
      "display_name": "Python (Pyodide)",
      "language": "python"
    },
    "language_info": {
      "codemirror_mode": {
        "name": "python",
        "version": 3
      },
      "file_extension": ".py",
      "mimetype": "text/x-python",
      "name": "python",
      "nbconvert_exporter": "python",
      "pygments_lexer": "ipython3",
      "version": "3.8"
    }
  },
  "nbformat_minor": 4,
  "nbformat": 4,
  "cells": [
    {
      "cell_type": "code",
      "source": "pip install ucimlrepo",
      "metadata": {
        "trusted": true
      },
      "outputs": [],
      "execution_count": null
    },
    {
      "cell_type": "code",
      "source": "from ucimlrepo import fetch_ucirepo \n  \n# fetch dataset \nbank_marketing = fetch_ucirepo(id=222) \n  \n# data (as pandas dataframes) \nX = bank_marketing.data.features \ny = bank_marketing.data.targets \n  \n# metadata \nprint(bank_marketing.metadata) \n  \n# variable information \nprint(bank_marketing.variables) ",
      "metadata": {
        "trusted": true
      },
      "outputs": [],
      "execution_count": null
    },
    {
      "cell_type": "code",
      "source": "X",
      "metadata": {
        "trusted": true
      },
      "outputs": [],
      "execution_count": null
    },
    {
      "cell_type": "code",
      "source": "y",
      "metadata": {
        "trusted": true
      },
      "outputs": [],
      "execution_count": null
    },
    {
      "cell_type": "code",
      "source": "import numpy as np\nimport pandas as pd\nfrom matplotlib import pyplot as plt\nimport seaborn as sns\nfrom sklearn.model_selection import train_test_split\nfrom sklearn.linear_model import LogisticRegression\nfrom sklearn.tree import DecisionTreeClassifier\nfrom sklearn import tree\nfrom sklearn.tree import plot_tree\nfrom sklearn.ensemble import RandomForestClassifier\nfrom sklearn.model_selection import RandomizedSearchCV\nfrom sklearn.metrics import confusion_matrix,classification_report,accuracy_score,precision_score,recall_score\nimport pickle",
      "metadata": {
        "trusted": true,
        "jupyter": {
          "source_hidden": true
        }
      },
      "outputs": [],
      "execution_count": null
    },
    {
      "cell_type": "code",
      "source": "df = pd.concat([X, y], axis=1)",
      "metadata": {
        "trusted": true
      },
      "outputs": [],
      "execution_count": null
    },
    {
      "cell_type": "code",
      "source": "df.head()",
      "metadata": {
        "trusted": true
      },
      "outputs": [],
      "execution_count": null
    },
    {
      "cell_type": "code",
      "source": "df.tail()",
      "metadata": {
        "trusted": true
      },
      "outputs": [],
      "execution_count": null
    },
    {
      "cell_type": "code",
      "source": "df.shape",
      "metadata": {
        "trusted": true
      },
      "outputs": [],
      "execution_count": null
    },
    {
      "cell_type": "code",
      "source": "df=df.fillna(df.mean())\ndf=pd.get_dummies(df)\nprint(df.columns)",
      "metadata": {
        "trusted": true
      },
      "outputs": [],
      "execution_count": null
    },
    {
      "cell_type": "code",
      "source": "df.info()",
      "metadata": {
        "trusted": true
      },
      "outputs": [],
      "execution_count": null
    },
    {
      "cell_type": "code",
      "source": "df.describe()",
      "metadata": {
        "trusted": true
      },
      "outputs": [],
      "execution_count": null
    },
    {
      "cell_type": "code",
      "source": "df.isnull().sum()",
      "metadata": {
        "trusted": true
      },
      "outputs": [],
      "execution_count": null
    },
    {
      "cell_type": "code",
      "source": "df.groupby('y_yes').mean()",
      "metadata": {
        "trusted": true
      },
      "outputs": [],
      "execution_count": null
    },
    {
      "cell_type": "code",
      "source": "df['y_yes'].value_counts()",
      "metadata": {
        "trusted": true
      },
      "outputs": [],
      "execution_count": null
    },
    {
      "cell_type": "code",
      "source": "sns.set()\nsns.countplot(\"y_yes\",data=df)",
      "metadata": {
        "trusted": true
      },
      "outputs": [],
      "execution_count": null
    },
    {
      "cell_type": "code",
      "source": "countyes=len(df[df.y_yes=='yes'])\ncountno= len(df[df.y_yes=='no'])\nprint(f'parcentage of yes---->',countyes/len(df.y_yes)*100)\nprint(f'parcentage of no---->',countno/len(df.y_yes)*100)",
      "metadata": {
        "trusted": true
      },
      "outputs": [],
      "execution_count": null
    },
    {
      "cell_type": "code",
      "source": "x=df[['age', 'balance', 'day_of_week', 'duration', 'campaign', 'pdays', 'previous']]\ny=df['y_yes']\n\n# Splitting data into training and testing sets\nx_train, x_test, y_train, y_test=train_test_split(x,y,test_size=0.2,random_state=42)",
      "metadata": {
        "trusted": true
      },
      "outputs": [],
      "execution_count": null
    },
    {
      "cell_type": "code",
      "source": "df.replace({'y_yes':{'no':0,'yes':1}},inplace=True)",
      "metadata": {
        "trusted": true
      },
      "outputs": [],
      "execution_count": null
    },
    {
      "cell_type": "code",
      "source": "sns.distplot(df['age'][df['y_yes']==1])\nsns.distplot(df['age'][df['y_yes']==0])",
      "metadata": {
        "trusted": true
      },
      "outputs": [],
      "execution_count": null
    },
    {
      "cell_type": "code",
      "source": "plt.figure(figsize=(100,50))\nsns.countplot('age',hue='y_yes',data=df)\n",
      "metadata": {
        "trusted": true
      },
      "outputs": [],
      "execution_count": null
    },
    {
      "cell_type": "code",
      "source": "plt.scatter(x=df.age[df.y_yes==1],y=df.duration[df.y_yes==1],c='blue')\nplt.scatter(x=df.age[df.y_yes==0],y=df.duration[df.y_yes==0],c='red')\nplt.legend(['Have subscrive' , \"Haven't subscrive\"])\nplt.xlabel('Age')\nplt.ylabel('Duration')\nplt.show()\n",
      "metadata": {
        "trusted": true
      },
      "outputs": [],
      "execution_count": null
    },
    {
      "cell_type": "code",
      "source": "df.groupby(['age'])['y_yes'].mean()",
      "metadata": {
        "trusted": true
      },
      "outputs": [],
      "execution_count": null
    },
    {
      "cell_type": "code",
      "source": "df['job'].value_counts()# making a count plot for job column \nplt.figure(figsize=(30,10))\nsns.countplot(\"job\",data=df)",
      "metadata": {
        "trusted": true
      },
      "outputs": [],
      "execution_count": null
    },
    {
      "cell_type": "code",
      "source": "plt.figure(figsize=(30,10))\nsns.countplot('job',hue='y_yes',data=df)\n",
      "metadata": {
        "trusted": true
      },
      "outputs": [],
      "execution_count": null
    },
    {
      "cell_type": "code",
      "source": "df.groupby(['job'])['y_yes'].mean()",
      "metadata": {
        "trusted": true
      },
      "outputs": [],
      "execution_count": null
    },
    {
      "cell_type": "code",
      "source": "sns.countplot(\"marital\",data=df)\n\n",
      "metadata": {
        "trusted": true
      },
      "outputs": [],
      "execution_count": null
    },
    {
      "cell_type": "code",
      "source": "sns.countplot('marital',hue='y_yes',data=df)",
      "metadata": {
        "trusted": true
      },
      "outputs": [],
      "execution_count": null
    },
    {
      "cell_type": "code",
      "source": "plt.scatter(x=df.marital[df.y_yes==1],y=df.duration[df.y_yes==1],c='blue')\nplt.scatter(x=df.marital[df.y_yes==0],y=df.duration[df.y_yes==0],c='red')\nplt.legend(['Have subscrive' , \"Haven't subscrive\"])\nplt.xlabel('marital')\nplt.ylabel('Duration')\nplt.show()",
      "metadata": {
        "trusted": true
      },
      "outputs": [],
      "execution_count": null
    },
    {
      "cell_type": "code",
      "source": "df.groupby(['marital'])['y_yes'].mean()",
      "metadata": {
        "trusted": true
      },
      "outputs": [],
      "execution_count": null
    },
    {
      "cell_type": "code",
      "source": "df['education'].value_counts()",
      "metadata": {
        "trusted": true
      },
      "outputs": [],
      "execution_count": null
    },
    {
      "cell_type": "code",
      "source": "sns.countplot(\"education\",data=df)",
      "metadata": {
        "trusted": true
      },
      "outputs": [],
      "execution_count": null
    },
    {
      "cell_type": "code",
      "source": "sns.countplot('education',hue='y_yes',data=df)",
      "metadata": {
        "trusted": true
      },
      "outputs": [],
      "execution_count": null
    },
    {
      "cell_type": "code",
      "source": "plt.scatter(x=df.housing[df.y_yes==1],y=df.duration[df.y_yes==1],c='blue')\nplt.scatter(x=df.housing[df.y_yes==0],y=df.duration[df.y_yes==0],c='red')\nplt.legend(['Have subscrive' , \"Haven't subscrive\"])\nplt.xlabel('housing')\nplt.ylabel('Duration')\nplt.show()\n",
      "metadata": {
        "trusted": true
      },
      "outputs": [],
      "execution_count": null
    },
    {
      "cell_type": "code",
      "source": "df.groupby(['housing'])['y_yes'].mean()",
      "metadata": {
        "trusted": true
      },
      "outputs": [],
      "execution_count": null
    },
    {
      "cell_type": "code",
      "source": "df.columns",
      "metadata": {
        "trusted": true
      },
      "outputs": [],
      "execution_count": null
    },
    {
      "cell_type": "code",
      "source": "sns.countplot(\"loan\",data=df)",
      "metadata": {
        "trusted": true
      },
      "outputs": [],
      "execution_count": null
    },
    {
      "cell_type": "code",
      "source": "sns.countplot('loan',hue='y_yes',data=df)",
      "metadata": {
        "trusted": true
      },
      "outputs": [],
      "execution_count": null
    },
    {
      "cell_type": "code",
      "source": "plt.scatter(x=df.loan[df.y_yes==1],y=df.duration[df.y_yes==1],c='blue')\nplt.scatter(x=df.loan[df.y_yes==0],y=df.duration[df.y_yes==0],c='red')\nplt.legend(['Have subscrive' , \"Haven't subscrive\"])\nplt.xlabel('loan')\nplt.ylabel('Duration')\nplt.show()\n",
      "metadata": {
        "trusted": true
      },
      "outputs": [],
      "execution_count": null
    },
    {
      "cell_type": "code",
      "source": "df.groupby(['loan'])['y_yes'].mean()",
      "metadata": {
        "trusted": true
      },
      "outputs": [],
      "execution_count": null
    },
    {
      "cell_type": "code",
      "source": "sns.pairplot(data=df)\n",
      "metadata": {
        "trusted": true
      },
      "outputs": [],
      "execution_count": null
    },
    {
      "cell_type": "code",
      "source": "plt.figure(figsize=(10,10))\nsns.heatmap(data=df.corr(),annot=True,cmap='viridis')",
      "metadata": {
        "trusted": true
      },
      "outputs": [],
      "execution_count": null
    },
    {
      "cell_type": "code",
      "source": "df.corr()",
      "metadata": {
        "trusted": true
      },
      "outputs": [],
      "execution_count": null
    },
    {
      "cell_type": "code",
      "source": "df.sample(4)",
      "metadata": {
        "trusted": true
      },
      "outputs": [],
      "execution_count": null
    },
    {
      "cell_type": "code",
      "source": "df.info()",
      "metadata": {
        "trusted": true
      },
      "outputs": [],
      "execution_count": null
    },
    {
      "cell_type": "code",
      "source": "df['job'].value_counts()\n",
      "metadata": {
        "trusted": true
      },
      "outputs": [],
      "execution_count": null
    },
    {
      "cell_type": "code",
      "source": "df.replace({'job':{ 'blue-collar' : 0,\n                    'management'  : 1,    \n                   'technician'   : 2,\n                    'admin.'      : 3, \n                    'services'    : 4,\n                    'retired'     : 5,\n                    'self-employed':6,\n                    'entrepreneur' :7,\n                    'unemployed'   :8,\n                    'housemaid'    :9,\n                    'student'      :10,\n                    'unknown'      :11, },\n            'marital':{'married':0,'single':1,'divorced':2},\n            'education':{'secondary':0,'tertiary':1,'primary':2,'unknown':3},\n            'default':{'no':0,'yes':1},\n            'housing':{'no':0,'yes':1},\n            'loan':{'no':0,'yes':1}\n                      },inplace=True)\n",
      "metadata": {
        "trusted": true
      },
      "outputs": [],
      "execution_count": null
    },
    {
      "cell_type": "code",
      "source": "import numpy as np\n\n# Check for NaN and infinite values in x_train\nprint(np.isnan(x_train).any())\nprint(np.isinf(x_train).any())\n",
      "metadata": {
        "trusted": true
      },
      "outputs": [],
      "execution_count": null
    },
    {
      "cell_type": "code",
      "source": "x_train = x_train.astype('float32')",
      "metadata": {
        "trusted": true
      },
      "outputs": [],
      "execution_count": null
    },
    {
      "cell_type": "code",
      "source": "x_train = x_train.dropna()",
      "metadata": {
        "trusted": true
      },
      "outputs": [],
      "execution_count": null
    },
    {
      "cell_type": "code",
      "source": "Dc = DecisionTreeClassifier()\nDc.fit(x_train,y_train",
      "metadata": {
        "trusted": true
      },
      "outputs": [],
      "execution_count": null
    },
    {
      "cell_type": "code",
      "source": "y_pred = Dc.predict(x_test)\ny_pred",
      "metadata": {
        "trusted": true
      },
      "outputs": [],
      "execution_count": null
    },
    {
      "cell_type": "code",
      "source": "y_pred = Dc.predict(x_test)\n\ncm = confusion_matrix(y_test,y_pred)\nprint(f\"Confusion Matrix =\\n\",cm)\nprint(\"*\"*50)\nac = accuracy_score(y_test,y_pred)\nprint(f\"Accuracy Score = {ac}\")\nprint(\"*\"*50)\ncr = classification_report(y_test,y_pred)\nprint(f\"Classification report= \\n{cr}\")",
      "metadata": {
        "trusted": true
      },
      "outputs": [],
      "execution_count": null
    },
    {
      "cell_type": "code",
      "source": "y_pred = Dc.predict(x_train)\n\ncm = confusion_matrix(y_train,y_pred)\nprint(f\"Confusion Matrix =\\n\",cm)\nprint(\"*\"*50)\nac = accuracy_score(y_train,y_pred)\nprint(f\"Accuracy Score = {ac}\")\nprint(\"*\"*50)\ncr = classification_report(y_train,y_pred)\nprint(f\"Classification report= \\n{cr}\")",
      "metadata": {
        "trusted": true
      },
      "outputs": [],
      "execution_count": null
    },
    {
      "cell_type": "code",
      "source": "DC= DecisionTreeClassifier(min_samples_split =  15,min_samples_leaf =  16,max_depth=3,criterion='gini')\n",
      "metadata": {
        "trusted": true
      },
      "outputs": [],
      "execution_count": null
    },
    {
      "cell_type": "code",
      "source": "DC.fit(x_train,y_train)",
      "metadata": {
        "trusted": true
      },
      "outputs": [],
      "execution_count": null
    },
    {
      "cell_type": "code",
      "source": "y_pred = DC.predict(x_test)\n\ncm = confusion_matrix(y_test,y_pred)\nprint(f\"Confusion Matrix =\\n\",cm)\nprint(\"*\"*50)\nac = accuracy_score(y_test,y_pred)\nprint(f\"Accuracy Score = {ac}\")\nprint(\"*\"*50)\ncr = classification_report(y_test,y_pred)\nprint(f\"Classification report= \\n{cr}\")",
      "metadata": {
        "trusted": true
      },
      "outputs": [],
      "execution_count": null
    },
    {
      "cell_type": "code",
      "source": "y_pred = DC.predict(x_train)\n\ncm = confusion_matrix(y_train,y_pred)\nprint(f\"Confusion Matrix =\\n\",cm)\nprint(\"*\"*50)\nac = accuracy_score(y_train,y_pred)\nprint(f\"Accuracy Score = {ac}\")\nprint(\"*\"*50)\ncr = classification_report(y_train,y_pred)\nprint(f\"Classification report= \\n{cr}\")\n",
      "metadata": {
        "trusted": true
      },
      "outputs": [],
      "execution_count": null
    },
    {
      "cell_type": "code",
      "source": "plt.figure(figsize=(100,50))\ntree_fig = plot_tree(DC, feature_names=x.columns, filled=True, class_names=['yes','no'])\nplt.savefig(\"decision_tree2.png\")",
      "metadata": {
        "trusted": true
      },
      "outputs": [],
      "execution_count": null
    },
    {
      "cell_type": "code",
      "source": "with open('model.pkl','wb') as file: \n    pickle.dump(DC,file)",
      "metadata": {
        "trusted": true
      },
      "outputs": [],
      "execution_count": null
    },
    {
      "cell_type": "code",
      "source": "pkl=pd.read_pickle('model.pkl')\npkl\n",
      "metadata": {
        "trusted": true
      },
      "outputs": [],
      "execution_count": null
    },
    {
      "cell_type": "code",
      "source": "",
      "metadata": {
        "trusted": true
      },
      "outputs": [],
      "execution_count": null
    },
    {
      "cell_type": "code",
      "source": "",
      "metadata": {
        "trusted": true
      },
      "outputs": [],
      "execution_count": null
    },
    {
      "cell_type": "code",
      "source": "",
      "metadata": {
        "trusted": true
      },
      "outputs": [],
      "execution_count": null
    }
  ]
}